{
 "cells": [
  {
   "cell_type": "code",
   "execution_count": null,
   "id": "0b0c61c8-9b8f-4c0a-94c9-f392b70dc223",
   "metadata": {},
   "outputs": [],
   "source": [
    "from matplotlib import pyplot as plt\n",
    "import numpy as np\n",
    "import pandas as pd\n",
    "import itertools\n",
    "import xarray as xr\n",
    "from Datasets import forcings, exp_set_warm_dict, colors_dict\n",
    "import Functions_data_analysis as fda\n",
    "import Functions_load_output as flo\n",
    "import Functions_plotting as fp"
   ]
  },
  {
   "cell_type": "code",
   "execution_count": null,
   "id": "8efe27d2-ee2b-403f-8f97-3cc6dd67be52",
   "metadata": {},
   "outputs": [],
   "source": [
    "# Use importlib to reload modules after editing them\n",
    "import importlib\n",
    "importlib.reload(fda)"
   ]
  },
  {
   "cell_type": "code",
   "execution_count": null,
   "id": "6ec890e1-aee2-40fe-a15d-0d9aec2c1827",
   "metadata": {},
   "outputs": [],
   "source": [
    "region = 'CT'"
   ]
  },
  {
   "cell_type": "code",
   "execution_count": null,
   "id": "9bbf5306-9fb6-43e2-b2b9-024fa85875b6",
   "metadata": {},
   "outputs": [],
   "source": [
    "runs_nested = [exp_set_dict[set] for set in sets]\n",
    "runs = [run for sublist in runs_nested for run in sublist]\n",
    "runs"
   ]
  },
  {
   "cell_type": "code",
   "execution_count": null,
   "id": "3228bcb3-3d09-47c0-96fb-505298bbd9d5",
   "metadata": {},
   "outputs": [],
   "source": [
    "# Show locations of cross sections on bathymetry map\n",
    "fp.plot_bathymetry_and_locs('AS_near',[region]) #add capability to plot boxes"
   ]
  }
 ],
 "metadata": {
  "kernelspec": {
   "display_name": "Python [conda env:mitgcm_analysis_1]",
   "language": "python",
   "name": "conda-env-mitgcm_analysis_1-py"
  },
  "language_info": {
   "codemirror_mode": {
    "name": "ipython",
    "version": 3
   },
   "file_extension": ".py",
   "mimetype": "text/x-python",
   "name": "python",
   "nbconvert_exporter": "python",
   "pygments_lexer": "ipython3",
   "version": "3.9.16"
  }
 },
 "nbformat": 4,
 "nbformat_minor": 5
}
